{
 "cells": [
  {
   "cell_type": "code",
   "execution_count": 1,
   "metadata": {},
   "outputs": [
    {
     "ename": "ModuleNotFoundError",
     "evalue": "No module named 'power_electronics_workbench'",
     "output_type": "error",
     "traceback": [
      "\u001b[0;31m---------------------------------------------------------------------------\u001b[0m",
      "\u001b[0;31mModuleNotFoundError\u001b[0m                       Traceback (most recent call last)",
      "Cell \u001b[0;32mIn[1], line 1\u001b[0m\n\u001b[0;32m----> 1\u001b[0m \u001b[39mimport\u001b[39;00m \u001b[39mpower_electronics_workbench\u001b[39;00m \u001b[39mas\u001b[39;00m \u001b[39mworkbench\u001b[39;00m\n\u001b[1;32m      3\u001b[0m v_out\u001b[39m=\u001b[39m \u001b[39m50\u001b[39m \u001b[39m# Volts\u001b[39;00m\n\u001b[1;32m      4\u001b[0m v_in \u001b[39m=\u001b[39m \u001b[39m25\u001b[39m \u001b[39m# Volts\u001b[39;00m\n",
      "\u001b[0;31mModuleNotFoundError\u001b[0m: No module named 'power_electronics_workbench'"
     ]
    }
   ],
   "source": [
    "import power_electronics_workbench as workbench\n",
    "\n",
    "v_out= 50 # Volts\n",
    "v_in = 25 # Volts\n",
    "i_load = 2 # Amps\n",
    "\n",
    "workbench.boost_avg_inductor_current(v_out, v_in, i_load)"
   ]
  },
  {
   "cell_type": "code",
   "execution_count": null,
   "metadata": {},
   "outputs": [],
   "source": []
  }
 ],
 "metadata": {
  "kernelspec": {
   "display_name": "Python 3",
   "language": "python",
   "name": "python3"
  },
  "language_info": {
   "codemirror_mode": {
    "name": "ipython",
    "version": 3
   },
   "file_extension": ".py",
   "mimetype": "text/x-python",
   "name": "python",
   "nbconvert_exporter": "python",
   "pygments_lexer": "ipython3",
   "version": "3.10.6"
  },
  "orig_nbformat": 4
 },
 "nbformat": 4,
 "nbformat_minor": 2
}
